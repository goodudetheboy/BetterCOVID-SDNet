{
 "cells": [
  {
   "cell_type": "code",
   "execution_count": 1,
   "id": "487b3034",
   "metadata": {},
   "outputs": [],
   "source": [
    "import pandas as pd\n",
    "import cv2\n",
    "import numpy as np\n",
    "\n",
    "from matplotlib import pyplot as plt\n",
    "from mpl_toolkits.mplot3d import Axes3D\n",
    "\n",
    "import torch\n",
    "import torch.nn as nn\n",
    "import torch.nn.functional as F\n",
    "\n",
    "import torchvision\n",
    "from torchvision import transforms\n",
    "import torch.utils.data as data\n",
    "from torch.utils.data.sampler import SubsetRandomSampler\n",
    "\n",
    "import pickle\n",
    "from tqdm.notebook import tqdm\n"
   ]
  },
  {
   "cell_type": "code",
   "execution_count": 2,
   "id": "8004cc91",
   "metadata": {},
   "outputs": [],
   "source": [
    "def preprocess_data(directory:str, batch_size:int, test_size:int, rand_num:int, worker:int):\n",
    "    '''\n",
    "        directory: the directory of processed directory with class folders inside\n",
    "        batch_size: size of batch for training\n",
    "        test_size: percent of dataset used for test\n",
    "        rand_num: put random number for reproducibility\n",
    "        worker: number of worker in computation\n",
    "        \n",
    "        return train and test data ready for training\n",
    "    '''\n",
    "    #pipeline to resize images, crop, convert to tensor, and normalize\n",
    "    trans = transforms.Compose([\n",
    "    transforms.Resize(224),\n",
    "    transforms.CenterCrop(224),\n",
    "    transforms.ToTensor(),\n",
    "    transforms.Normalize(mean=[0.485, 0.456, 0.406],\n",
    "                         std=[0.229, 0.224, 0.225])])\n",
    "    \n",
    "    dataset = torchvision.datasets.ImageFolder(root=directory, transform=trans) #read image in folder to data with labels\n",
    "    \n",
    "    train_len = len(dataset) #get length of whole data\n",
    "    ind = list(range(train_len)) #indices of whole data\n",
    "    spl = int(np.floor(test_size * train_len)) #index of test data\n",
    "    \n",
    "    #reproducibility and shuffle step\n",
    "    np.random.seed(rand_num) \n",
    "    np.random.shuffle(ind)\n",
    "    \n",
    "    #sampling preparation steps\n",
    "    train_id, test_id = ind[spl:], ind[:spl]\n",
    "    tr_sampl = SubsetRandomSampler(train_id)\n",
    "    te_sampl = SubsetRandomSampler(test_id)\n",
    "\n",
    "    #use data loader to get train and test set ready for training\n",
    "    trainloader = torch.utils.data.DataLoader(dataset, batch_size=batch_size, sampler=tr_sampl,num_workers=worker)\n",
    "    testloader = torch.utils.data.DataLoader(dataset, batch_size=batch_size, sampler=te_sampl,num_workers=worker)\n",
    "    return (trainloader, testloader)"
   ]
  },
  {
   "cell_type": "code",
   "execution_count": null,
   "id": "609e2d33",
   "metadata": {},
   "outputs": [],
   "source": [
    "def switch_layer(pretrained: nn.Module, num_class: int) -> nn.Module:\n",
    "    \"\"\"\n",
    "    Arguments\n",
    "    ---------\n",
    "        pretrained : np.array\n",
    "            A pretrained model\n",
    "        num_class : int\n",
    "            The number of classes the classification problem requires.\n",
    "\n",
    "    Returns:\n",
    "    --------\n",
    "        The input pretrained model, but with the last fc layer have the num_class instead\n",
    "    \"\"\"\n",
    "\n",
    "    pretrained.fc = nn.Linear(pretrained.fc.size)\n"
   ]
  },
  {
   "cell_type": "code",
   "execution_count": 3,
   "id": "e62057d7",
   "metadata": {},
   "outputs": [],
   "source": [
    "dire = \"./Data/Processed\" # directory of dataset\n",
    "# loading data loader\n",
    "trainloader, testloader = preprocess_data(directory=dire, batch_size=16, test_size=0.3, rand_num=40, worker=4)\n",
    "# getting device\n",
    "device = torch.device(\"cuda\" if torch.cuda.is_available() else \"cpu\")"
   ]
  },
  {
   "cell_type": "code",
   "execution_count": 4,
   "id": "73dd0eb3",
   "metadata": {},
   "outputs": [],
   "source": [
    "# vgg16\n",
    "vgg16 = torchvision.models.vgg16(pretrained=True)"
   ]
  },
  {
   "cell_type": "code",
   "execution_count": 15,
   "id": "e7edcc3e",
   "metadata": {},
   "outputs": [],
   "source": [
    "resnet50 = torchvision.models.resnet50(pretrained=True)\n",
    "modules = list(resnet50.children())\n",
    "resnet50.fc = nn.Linear(2048,5)"
   ]
  },
  {
   "cell_type": "code",
   "execution_count": 16,
   "id": "d2d06cd9",
   "metadata": {},
   "outputs": [
    {
     "data": {
      "application/vnd.jupyter.widget-view+json": {
       "model_id": "f5475a1e71674935af4400739edd6b73",
       "version_major": 2,
       "version_minor": 0
      },
      "text/plain": [
       "  0%|          | 0/50 [00:00<?, ?it/s]"
      ]
     },
     "metadata": {},
     "output_type": "display_data"
    },
    {
     "name": "stdout",
     "output_type": "stream",
     "text": [
      "Epoch:[1/50], training loss: 1.3398\n",
      "Epoch:[2/50], training loss: 1.0384\n",
      "Epoch:[3/50], training loss: 0.7239\n",
      "Epoch:[4/50], training loss: 0.4682\n",
      "Epoch:[5/50], training loss: 0.3118\n",
      "Epoch:[6/50], training loss: 0.1780\n",
      "Epoch:[7/50], training loss: 0.1160\n",
      "Epoch:[8/50], training loss: 0.0815\n",
      "Epoch:[9/50], training loss: 0.0705\n",
      "Epoch:[10/50], training loss: 0.1555\n",
      "Epoch:[11/50], training loss: 0.0682\n",
      "Epoch:[12/50], training loss: 0.1089\n",
      "Epoch:[13/50], training loss: 0.0753\n",
      "Epoch:[14/50], training loss: 0.0661\n",
      "Epoch:[15/50], training loss: 0.1041\n",
      "Epoch:[16/50], training loss: 0.1531\n",
      "Epoch:[17/50], training loss: 0.0639\n",
      "Epoch:[18/50], training loss: 0.0341\n",
      "Epoch:[19/50], training loss: 0.0192\n",
      "Epoch:[20/50], training loss: 0.0191\n",
      "Epoch:[21/50], training loss: 0.0119\n",
      "Epoch:[22/50], training loss: 0.0172\n",
      "Epoch:[23/50], training loss: 0.0241\n",
      "Epoch:[24/50], training loss: 0.0573\n",
      "Epoch:[25/50], training loss: 0.0345\n",
      "Epoch:[26/50], training loss: 0.0370\n",
      "Epoch:[27/50], training loss: 0.0272\n",
      "Epoch:[28/50], training loss: 0.0280\n",
      "Epoch:[29/50], training loss: 0.0395\n",
      "Epoch:[30/50], training loss: 0.0204\n",
      "Epoch:[31/50], training loss: 0.0196\n",
      "Epoch:[32/50], training loss: 0.0329\n",
      "Epoch:[33/50], training loss: 0.0383\n",
      "Epoch:[34/50], training loss: 0.0436\n",
      "Epoch:[35/50], training loss: 0.0552\n",
      "Epoch:[36/50], training loss: 0.0219\n",
      "Epoch:[37/50], training loss: 0.0138\n",
      "Epoch:[38/50], training loss: 0.0131\n",
      "Epoch:[39/50], training loss: 0.0151\n",
      "Epoch:[40/50], training loss: 0.0139\n",
      "Epoch:[41/50], training loss: 0.0067\n",
      "Epoch:[42/50], training loss: 0.0042\n",
      "Epoch:[43/50], training loss: 0.0098\n",
      "Epoch:[44/50], training loss: 0.0096\n",
      "Epoch:[45/50], training loss: 0.0147\n",
      "Epoch:[46/50], training loss: 0.0156\n",
      "Epoch:[47/50], training loss: 0.0054\n",
      "Epoch:[48/50], training loss: 0.0050\n",
      "Epoch:[49/50], training loss: 0.0057\n",
      "Epoch:[50/50], training loss: 0.0018\n"
     ]
    },
    {
     "data": {
      "text/plain": [
       "[<matplotlib.lines.Line2D at 0x28e3cd17fa0>]"
      ]
     },
     "execution_count": 16,
     "metadata": {},
     "output_type": "execute_result"
    },
    {
     "data": {
      "image/png": "[encoded data removed]",
      "text/plain": [
       "<Figure size 432x288 with 1 Axes>"
      ]
     },
     "metadata": {
      "needs_background": "light"
     },
     "output_type": "display_data"
    }
   ],
   "source": [
    "#net = resnet50\n",
    "from ipywidgets import IntProgress\n",
    "net = resnet50\n",
    "optimizer = torch.optim.SGD(net.parameters(), lr=0.001, momentum=0.9)\n",
    "criterion = nn.CrossEntropyLoss()\n",
    "net = net.to(device)\n",
    "losses = []\n",
    "epochs = 50\n",
    "for epoch in tqdm(range(epochs)):  # loop over the dataset multiple times\n",
    "# YOUR CODE HERE\n",
    "    Loss = 0.0\n",
    "    count = 0\n",
    "    for iter, data in enumerate(trainloader):\n",
    "        images, labels = data\n",
    "        images = images.to(device)\n",
    "        labels = labels.to(device)\n",
    "\n",
    "        predicted = net(images)\n",
    "        _, pre1 = torch.max(predicted,dim=1)\n",
    "\n",
    "        optimizer.zero_grad()\n",
    "        loss = criterion(predicted, labels)\n",
    "        loss.backward()\n",
    "        optimizer.step()\n",
    "\n",
    "        Loss += loss.item() #accumulate the loss\n",
    "        count += 1\n",
    "\n",
    "    avg_loss = Loss/count\n",
    "    losses.append(avg_loss) #append the average loss for each batch\n",
    "    print('Epoch:[{}/{}], training loss: {:.4f}'.format(epoch+1, epochs, avg_loss))\n",
    "\n",
    "    # validation\n",
    "    if epoch%5==0:\n",
    "        Loss = 0\n",
    "        plt.figure(figsize=(10,4))\n",
    "        with torch.no_grad():\n",
    "            for iter, data in enumerate(testloader):\n",
    "                images, labels = data\n",
    "                images = images.to(device)\n",
    "                labels = labels.to(device)\n",
    "\n",
    "                predicted = net(images)\n",
    "                _, pre1 = torch.max(predicted,dim=1)\n",
    "\n",
    "                optimizer.zero_grad()\n",
    "                loss = criterion(predicted, labels)\n",
    "\n",
    "                Loss += loss.item() #accumulate the loss\n",
    "                count += 1\n",
    "        print('Epoch:[{}/{}], validation loss: {:.4f}'.format(i+1, epochs, Loss))\n",
    "\n",
    "plt.plot(losses)"
   ]
  },
  {
   "cell_type": "code",
   "execution_count": 17,
   "id": "591a4d51",
   "metadata": {},
   "outputs": [
    {
     "name": "stdout",
     "output_type": "stream",
     "text": [
      "Accuracy of the network on the 10000 validation x: 57 %\n"
     ]
    }
   ],
   "source": [
    "correct = 0\n",
    "total = 0\n",
    "\n",
    "# YOUR CODE HERE\n",
    "with torch.no_grad():\n",
    "    for data in testloader:\n",
    "        images, labels = data\n",
    "        images = images.to(device)\n",
    "        labels = labels.to(device)\n",
    "        y_hat = net(images)\n",
    "        max_val, max_i = torch.max(y_hat.data, 1)\n",
    "        total += labels.size(0)\n",
    "        correct += (max_i == labels).sum().item()\n",
    "        \n",
    "print(f'Accuracy of the network on the 10000 validation x: {100 * correct // total} %')"
   ]
  }
 ],
 "metadata": {
  "kernelspec": {
   "display_name": "Python 3",
   "language": "python",
   "name": "python3"
  },
  "language_info": {
   "codemirror_mode": {
    "name": "ipython",
    "version": 3
   },
   "file_extension": ".py",
   "mimetype": "text/x-python",
   "name": "python",
   "nbconvert_exporter": "python",
   "pygments_lexer": "ipython3",
   "version": "3.8.8"
  }
 },
 "nbformat": 4,
 "nbformat_minor": 5
}
