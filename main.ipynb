{
 "cells": [
  {
   "cell_type": "code",
   "execution_count": 9,
   "id": "487b3034",
   "metadata": {},
   "outputs": [],
   "source": [
    "import numpy as np\n",
    "\n",
    "from matplotlib import pyplot as plt\n",
    "\n",
    "import torch\n",
    "import torch.nn as nn\n",
    "import torch.nn.functional as F\n",
    "from torch.optim.lr_scheduler import ExponentialLR\n",
    "\n",
    "import torchvision\n",
    "\n",
    "from tqdm.notebook import tqdm\n",
    "\n",
    "import train as training"
   ]
  },
  {
   "cell_type": "code",
   "execution_count": 10,
   "id": "a23417b9",
   "metadata": {},
   "outputs": [
    {
     "name": "stdout",
     "output_type": "stream",
     "text": [
      "{0: 100, 1: 171, 2: 76, 3: 78}\n"
     ]
    }
   ],
   "source": [
    "dire = \"./Data/Processed\" # directory of dataset\n",
    "# loading data loader\n",
    "trainloader, testloader = training.preprocess_data(directory=dire, batch_size=64, test_size=0.3, rand_num=40, worker=2)"
   ]
  },
  {
   "cell_type": "code",
   "execution_count": 11,
   "id": "e7edcc3e",
   "metadata": {},
   "outputs": [],
   "source": [
    "# load pretrained model\n",
    "vgg16 = torchvision.models.vgg16(pretrained=True)\n",
    "googlenet = torchvision.models.googlenet(pretrained=True)\n",
    "efficientnet_b7 = torchvision.models.efficientnet_b7(pretrained=True)\n",
    "resnet50 = torchvision.models.resnet50(pretrained=True)"
   ]
  },
  {
   "cell_type": "code",
   "execution_count": 12,
   "id": "e7eff120",
   "metadata": {},
   "outputs": [],
   "source": [
    "class ClassifierNet(nn.Module):\n",
    "    def __init__(self, pretrained, num_classes):\n",
    "        super().__init__()\n",
    "        # Pretrained\n",
    "        self.network = pretrained\n",
    "        # Replace last layer\n",
    "        self.network.fc = nn.Sequential(nn.Linear(self.network.fc.in_features, 512), \n",
    "                                         nn.ReLU(),  \n",
    "                                         nn.Dropout(0.25),\n",
    "                                         nn.Linear(512, 128), \n",
    "                                         nn.ReLU(),  \n",
    "                                         nn.Dropout(0.50), \n",
    "                                         nn.Linear(128, num_classes),\n",
    "                                         nn.Softmax()\n",
    "                                        )\n",
    "    def forward(self, x):\n",
    "        out = self.network(x)\n",
    "        return out\n"
   ]
  },
  {
   "cell_type": "code",
   "execution_count": 13,
   "id": "1837f9d5",
   "metadata": {},
   "outputs": [],
   "source": [
    "# define model to replace here\n",
    "model_details = {\n",
    "    'model': resnet50,\n",
    "    'name': 'resnet50'\n",
    "\n",
    "#     'model': efficientnet_b7,\n",
    "#     'name': 'efficientnet_b7'\n",
    "\n",
    "#     'model': googlenet,\n",
    "#     'name': 'googlenet'\n",
    "\n",
    "#     'model': vgg16,\n",
    "#     'name': 'vgg16' \n",
    "}"
   ]
  },
  {
   "cell_type": "code",
   "execution_count": 14,
   "id": "1ddfdb90",
   "metadata": {},
   "outputs": [
    {
     "name": "stdout",
     "output_type": "stream",
     "text": [
      "Training on cuda\n"
     ]
    },
    {
     "data": {
      "application/vnd.jupyter.widget-view+json": {
       "model_id": "60709e6ceda04e2998166a457194d675",
       "version_major": 2,
       "version_minor": 0
      },
      "text/plain": [
       "  0%|          | 0/50 [00:00<?, ?it/s]"
      ]
     },
     "metadata": {},
     "output_type": "display_data"
    },
    {
     "name": "stdout",
     "output_type": "stream",
     "text": [
      "Epoch [1/50], Step [5/5], Accuracy: 28.523, Train Loss: 1.3821\n",
      "Epoch 1 Learning Rate: 0.009000000000000001\n",
      "-----------------------------------------------\n",
      "Epoch [2/50], Step [5/5], Accuracy: 36.577, Train Loss: 1.3855\n",
      "Epoch 2 Learning Rate: 0.008100000000000001\n",
      "-----------------------------------------------\n",
      "Epoch [3/50], Step [5/5], Accuracy: 39.933, Train Loss: 1.3600\n",
      "Epoch 3 Learning Rate: 0.007290000000000001\n",
      "-----------------------------------------------\n",
      "Epoch [4/50], Step [5/5], Accuracy: 40.268, Train Loss: 1.3699\n",
      "Epoch 4 Learning Rate: 0.006561000000000002\n",
      "-----------------------------------------------\n",
      "Epoch [5/50], Step [5/5], Accuracy: 40.268, Train Loss: 1.3438\n",
      "\n",
      "===================Validating===================\n",
      "Epoch: 5 | Test Loss: 1.350 | Accuracy: 40.157\n",
      "Class accuracy: [0.0, 1.0, 0.0, 0.0]\n",
      "\n",
      "Epoch 5 Learning Rate: 0.005904900000000002\n",
      "-----------------------------------------------\n",
      "Epoch [6/50], Step [5/5], Accuracy: 40.268, Train Loss: 1.3388\n",
      "Epoch 6 Learning Rate: 0.005314410000000002\n",
      "-----------------------------------------------\n"
     ]
    }
   ],
   "source": [
    "# define params here\n",
    "num_classes = 4\n",
    "model_name = model_details['name']\n",
    "net = ClassifierNet(model_details['model'], num_classes)\n",
    "device = torch.device(\"cuda\" if torch.cuda.is_available() else \"cpu\")\n",
    "net.to(device)\n",
    "optimizer = torch.optim.SGD(net.parameters(), lr=0.01, momentum=0.9)\n",
    "scheduler = ExponentialLR(optimizer, gamma=0.9)\n",
    "\n",
    "criterion = nn.CrossEntropyLoss()\n",
    "epochs = 50\n",
    "\n",
    "training.run(model_name, net, optimizer, scheduler, criterion, epochs, num_classes, trainloader, testloader)"
   ]
  }
 ],
 "metadata": {
  "kernelspec": {
   "display_name": "Python 3",
   "language": "python",
   "name": "python3"
  },
  "language_info": {
   "codemirror_mode": {
    "name": "ipython",
    "version": 3
   },
   "file_extension": ".py",
   "mimetype": "text/x-python",
   "name": "python",
   "nbconvert_exporter": "python",
   "pygments_lexer": "ipython3",
   "version": "3.8.8"
  }
 },
 "nbformat": 4,
 "nbformat_minor": 5
}
