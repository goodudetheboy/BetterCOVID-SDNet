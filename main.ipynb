{
 "cells": [
  {
   "cell_type": "code",
   "execution_count": 1,
   "id": "487b3034",
   "metadata": {},
   "outputs": [],
   "source": [
    "import numpy as np\n",
    "\n",
    "import torch\n",
    "import torch.nn as nn\n",
    "import torch.nn.functional as F\n",
    "\n",
    "import torchvision\n",
    "\n",
    "from tqdm.notebook import tqdm\n",
    "\n",
    "import train as trainer"
   ]
  },
  {
   "cell_type": "code",
   "execution_count": 2,
   "id": "a23417b9",
   "metadata": {},
   "outputs": [],
   "source": [
    "dire = \"./Data/Processed\" # directory of dataset\n",
    "# loading data loader\n",
    "trainloader, testloader = trainer.preprocess_data(directory=dire, batch_size=16, test_size=0.3, rand_num=40, worker=4)"
   ]
  },
  {
   "cell_type": "code",
   "execution_count": 3,
   "id": "e7edcc3e",
   "metadata": {},
   "outputs": [],
   "source": [
    "# load pretrained model\n",
    "# vgg16 = torchvision.models.vgg16(pretrained=True)\n",
    "# googlenet = torchvision.models.googlenet(pretrained=True)\n",
    "# efficientnet_b7 = torchvision.models.efficientnet_b7(pretrained=True)\n",
    "resnet50 = torchvision.models.resnet50(pretrained=True)"
   ]
  },
  {
   "cell_type": "code",
   "execution_count": 4,
   "id": "e7eff120",
   "metadata": {},
   "outputs": [],
   "source": [
    "class ClassifierNet(nn.Module):\n",
    "    def __init__(self, pretrained: nn.Module):\n",
    "        super().__init__()\n",
    "        # Pretrained\n",
    "        self.network = pretrained\n",
    "        # Replace last layer\n",
    "        self.network.fc = nn.Sequential(nn.Linear(2048, 512), \n",
    "                                         nn.ReLU(),  \n",
    "                                         nn.Dropout(0.25),\n",
    "                                         nn.Linear(512, 128), \n",
    "                                         nn.ReLU(),  \n",
    "                                         nn.Dropout(0.50), \n",
    "                                         nn.Linear(128, 5)\n",
    "                                        )\n",
    "    def forward(self, x):\n",
    "        out = self.network(x)\n",
    "        return out\n"
   ]
  },
  {
   "cell_type": "code",
   "execution_count": 5,
   "id": "412f0861",
   "metadata": {},
   "outputs": [
    {
     "name": "stdout",
     "output_type": "stream",
     "text": [
      "Training on cuda\n"
     ]
    },
    {
     "data": {
      "application/vnd.jupyter.widget-view+json": {
       "model_id": "5189f9a47c554df2b8d180ed1b4cf632",
       "version_major": 2,
       "version_minor": 0
      },
      "text/plain": [
       "  0%|          | 0/10 [00:00<?, ?it/s]"
      ]
     },
     "metadata": {},
     "output_type": "display_data"
    },
    {
     "name": "stdout",
     "output_type": "stream",
     "text": [
      "Epoch:[1/10], training loss: 1.4806\n",
      "Epoch:[2/10], training loss: 1.3391\n",
      "Epoch:[3/10], training loss: 1.2765\n",
      "Epoch:[4/10], training loss: 1.1808\n",
      "Epoch:[5/10], training loss: 1.0668\n",
      "Accuracy of the network on the 10000 validation x: 53.3333 %\n",
      "Class accuracy: [0.0, 0.05999999865889549, 1.0, 0.0, 0.0]\n",
      "Epoch:[6/10], training loss: 1.3580\n",
      "Epoch:[7/10], training loss: 1.2902\n",
      "Epoch:[8/10], training loss: 1.2591\n",
      "Epoch:[9/10], training loss: 1.2080\n",
      "Epoch:[10/10], training loss: 1.1975\n",
      "Accuracy of the network on the 10000 validation x: 58.8235 %\n",
      "Class accuracy: [0.0, 0.5199999809265137, 0.932330846786499, 0.0, 0.0]\n"
     ]
    },
    {
     "data": {
      "image/png": "[encoded data removed]",
      "text/plain": [
       "<Figure size 432x288 with 1 Axes>"
      ]
     },
     "metadata": {
      "needs_background": "light"
     },
     "output_type": "display_data"
    }
   ],
   "source": [
    "# define params here\n",
    "net = ClassifierNet(resnet50)\n",
    "optimizer = torch.optim.SGD(net.parameters(), lr=0.001, momentum=0.9)\n",
    "criterion = nn.CrossEntropyLoss()\n",
    "epochs = 50\n",
    "trainer.train(net, optimizer, criterion, epochs, trainloader, testloader)"
   ]
  }
 ],
 "metadata": {
  "kernelspec": {
   "display_name": "Python 3",
   "language": "python",
   "name": "python3"
  },
  "language_info": {
   "codemirror_mode": {
    "name": "ipython",
    "version": 3
   },
   "file_extension": ".py",
   "mimetype": "text/x-python",
   "name": "python",
   "nbconvert_exporter": "python",
   "pygments_lexer": "ipython3",
   "version": "3.8.8"
  }
 },
 "nbformat": 4,
 "nbformat_minor": 5
}
