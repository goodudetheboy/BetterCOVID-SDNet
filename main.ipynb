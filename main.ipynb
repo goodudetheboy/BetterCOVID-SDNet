{
 "cells": [
  {
   "cell_type": "code",
   "execution_count": 1,
   "id": "487b3034",
   "metadata": {},
   "outputs": [],
   "source": [
    "import numpy as np\n",
    "\n",
    "from matplotlib import pyplot as plt\n",
    "\n",
    "import torch\n",
    "import torch.nn as nn\n",
    "import torch.nn.functional as F\n",
    "from torch.optim.lr_scheduler import ExponentialLR\n",
    "\n",
    "import torchvision\n",
    "\n",
    "from tqdm.notebook import tqdm\n",
    "\n",
    "import train as training"
   ]
  },
  {
   "cell_type": "code",
   "execution_count": 2,
   "id": "a23417b9",
   "metadata": {},
   "outputs": [
    {
     "name": "stdout",
     "output_type": "stream",
     "text": [
      "{0: 426, 1: 426}\n"
     ]
    }
   ],
   "source": [
    "dire = \"./cleaned-data\" # directory of dataset\n",
    "# loading data loader\n",
    "trainloader, testloader = training.preprocess_data(directory=dire, batch_size=64, test_size=0.3, rand_num=40, worker=2)"
   ]
  },
  {
   "cell_type": "code",
   "execution_count": 3,
   "id": "e7edcc3e",
   "metadata": {},
   "outputs": [],
   "source": [
    "# load pretrained model\n",
    "# vgg16 = torchvision.models.vgg16(pretrained=True)\n",
    "# googlenet = torchvision.models.googlenet(pretrained=True)\n",
    "# efficientnet_b7 = torchvision.models.efficientnet_b7(pretrained=True)\n",
    "resnet50 = torchvision.models.resnet50(pretrained=True)"
   ]
  },
  {
   "cell_type": "code",
   "execution_count": 4,
   "id": "e7eff120",
   "metadata": {},
   "outputs": [],
   "source": [
    "class ClassifierNet(nn.Module):\n",
    "    def __init__(self, pretrained: nn.Module):\n",
    "        super().__init__()\n",
    "        # Pretrained\n",
    "        self.network = pretrained\n",
    "        # Replace last layer\n",
    "        self.network.fc = nn.Sequential(nn.Linear(2048, 512), \n",
    "                                         nn.ReLU(),  \n",
    "                                         nn.Dropout(0.25),\n",
    "                                         nn.Linear(512, 128), \n",
    "                                         nn.ReLU(),  \n",
    "                                         nn.Dropout(0.50), \n",
    "                                         nn.Linear(128, 2),\n",
    "                                         nn.Softmax()\n",
    "                                        )\n",
    "    def forward(self, x):\n",
    "        out = self.network(x)\n",
    "        return out\n"
   ]
  },
  {
   "cell_type": "code",
   "execution_count": 5,
   "id": "1ddfdb90",
   "metadata": {},
   "outputs": [
    {
     "name": "stdout",
     "output_type": "stream",
     "text": [
      "Training on cuda\n"
     ]
    },
    {
     "data": {
      "application/vnd.jupyter.widget-view+json": {
       "model_id": "b7f800e1728a49f191aff8f00094f9e6",
       "version_major": 2,
       "version_minor": 0
      },
      "text/plain": [
       "  0%|          | 0/50 [00:00<?, ?it/s]"
      ]
     },
     "metadata": {},
     "output_type": "display_data"
    },
    {
     "name": "stderr",
     "output_type": "stream",
     "text": [
      "C:\\Users\\goodu\\AppData\\Local\\Programs\\Python\\Python38\\lib\\site-packages\\torch\\nn\\modules\\container.py:141: UserWarning: Implicit dimension choice for softmax has been deprecated. Change the call to include dim=X as an argument.\n",
      "  input = module(input)\n"
     ]
    },
    {
     "name": "stdout",
     "output_type": "stream",
     "text": [
      "Epoch [1/50], Step [5/38], Accuracy: 51.250, Train Loss: 0.6737\n",
      "Epoch [1/50], Step [10/38], Accuracy: 48.750, Train Loss: 0.7080\n",
      "Epoch [1/50], Step [15/38], Accuracy: 50.833, Train Loss: 0.6953\n",
      "Epoch [1/50], Step [20/38], Accuracy: 52.188, Train Loss: 0.6821\n",
      "Epoch [1/50], Step [25/38], Accuracy: 52.250, Train Loss: 0.6801\n",
      "Epoch [1/50], Step [30/38], Accuracy: 53.125, Train Loss: 0.6608\n",
      "Epoch [1/50], Step [35/38], Accuracy: 53.214, Train Loss: 0.7300\n",
      "-----------------------------------------------\n",
      "Epoch [2/50], Step [5/38], Accuracy: 67.500, Train Loss: 0.6706\n",
      "Epoch [2/50], Step [10/38], Accuracy: 68.125, Train Loss: 0.6444\n",
      "Epoch [2/50], Step [15/38], Accuracy: 69.583, Train Loss: 0.5849\n",
      "Epoch [2/50], Step [20/38], Accuracy: 69.688, Train Loss: 0.5552\n",
      "Epoch [2/50], Step [25/38], Accuracy: 71.000, Train Loss: 0.5149\n",
      "Epoch [2/50], Step [30/38], Accuracy: 71.458, Train Loss: 0.5078\n",
      "Epoch [2/50], Step [35/38], Accuracy: 71.250, Train Loss: 0.6589\n",
      "-----------------------------------------------\n",
      "Epoch [3/50], Step [5/38], Accuracy: 85.000, Train Loss: 0.5626\n",
      "Epoch [3/50], Step [10/38], Accuracy: 80.625, Train Loss: 0.4939\n",
      "Epoch [3/50], Step [15/38], Accuracy: 79.167, Train Loss: 0.6073\n",
      "Epoch [3/50], Step [20/38], Accuracy: 80.625, Train Loss: 0.4550\n",
      "Epoch [3/50], Step [25/38], Accuracy: 78.250, Train Loss: 0.5654\n",
      "Epoch [3/50], Step [30/38], Accuracy: 78.958, Train Loss: 0.4774\n",
      "Epoch [3/50], Step [35/38], Accuracy: 78.750, Train Loss: 0.3756\n",
      "-----------------------------------------------\n",
      "Epoch [4/50], Step [5/38], Accuracy: 81.250, Train Loss: 0.4316\n",
      "Epoch [4/50], Step [10/38], Accuracy: 76.250, Train Loss: 0.5086\n",
      "Epoch [4/50], Step [15/38], Accuracy: 77.917, Train Loss: 0.5106\n",
      "Epoch [4/50], Step [20/38], Accuracy: 75.938, Train Loss: 0.5054\n",
      "Epoch [4/50], Step [25/38], Accuracy: 77.000, Train Loss: 0.4881\n",
      "Epoch [4/50], Step [30/38], Accuracy: 77.292, Train Loss: 0.6007\n",
      "Epoch [4/50], Step [35/38], Accuracy: 76.964, Train Loss: 0.5820\n",
      "-----------------------------------------------\n",
      "Epoch [5/50], Step [5/38], Accuracy: 85.000, Train Loss: 0.5710\n",
      "Epoch [5/50], Step [10/38], Accuracy: 88.750, Train Loss: 0.3883\n",
      "Epoch [5/50], Step [15/38], Accuracy: 86.250, Train Loss: 0.4808\n",
      "Epoch [5/50], Step [20/38], Accuracy: 83.750, Train Loss: 0.5972\n",
      "Epoch [5/50], Step [25/38], Accuracy: 84.500, Train Loss: 0.4718\n",
      "Epoch [5/50], Step [30/38], Accuracy: 84.792, Train Loss: 0.4903\n",
      "Epoch [5/50], Step [35/38], Accuracy: 84.107, Train Loss: 0.5157\n",
      "================Validating================\n",
      "Epoch: 5 | Test Loss: 0.634 | Accuracy: 65.882\n",
      "Class accuracy: [0.4480000138282776, 0.8615384697914124]\n",
      "-----------------------------------------------\n",
      "Epoch [6/50], Step [5/38], Accuracy: 86.250, Train Loss: 0.3798\n",
      "Epoch [6/50], Step [10/38], Accuracy: 82.500, Train Loss: 0.4365\n",
      "Epoch [6/50], Step [15/38], Accuracy: 84.167, Train Loss: 0.4656\n",
      "Epoch [6/50], Step [20/38], Accuracy: 84.375, Train Loss: 0.5062\n",
      "Epoch [6/50], Step [25/38], Accuracy: 85.500, Train Loss: 0.4815\n",
      "Epoch [6/50], Step [30/38], Accuracy: 84.583, Train Loss: 0.4782\n",
      "Epoch [6/50], Step [35/38], Accuracy: 84.286, Train Loss: 0.4229\n",
      "-----------------------------------------------\n",
      "Epoch [7/50], Step [5/38], Accuracy: 91.250, Train Loss: 0.4141\n",
      "Epoch [7/50], Step [10/38], Accuracy: 92.500, Train Loss: 0.4469\n",
      "Epoch [7/50], Step [15/38], Accuracy: 91.667, Train Loss: 0.3987\n",
      "Epoch [7/50], Step [20/38], Accuracy: 91.875, Train Loss: 0.3925\n",
      "Epoch [7/50], Step [25/38], Accuracy: 90.500, Train Loss: 0.6920\n",
      "Epoch [7/50], Step [30/38], Accuracy: 90.000, Train Loss: 0.3751\n",
      "Epoch [7/50], Step [35/38], Accuracy: 90.179, Train Loss: 0.3903\n",
      "-----------------------------------------------\n",
      "Epoch [8/50], Step [5/38], Accuracy: 90.000, Train Loss: 0.4028\n",
      "Epoch [8/50], Step [10/38], Accuracy: 90.000, Train Loss: 0.4734\n",
      "Epoch [8/50], Step [15/38], Accuracy: 91.667, Train Loss: 0.3777\n",
      "Epoch [8/50], Step [20/38], Accuracy: 89.688, Train Loss: 0.4178\n",
      "Epoch [8/50], Step [25/38], Accuracy: 91.000, Train Loss: 0.3735\n",
      "Epoch [8/50], Step [30/38], Accuracy: 91.042, Train Loss: 0.5230\n",
      "Epoch [8/50], Step [35/38], Accuracy: 91.071, Train Loss: 0.3947\n",
      "-----------------------------------------------\n",
      "Epoch [9/50], Step [5/38], Accuracy: 95.000, Train Loss: 0.3597\n",
      "Epoch [9/50], Step [10/38], Accuracy: 95.000, Train Loss: 0.3768\n",
      "Epoch [9/50], Step [15/38], Accuracy: 94.583, Train Loss: 0.3272\n",
      "Epoch [9/50], Step [20/38], Accuracy: 95.312, Train Loss: 0.3181\n",
      "Epoch [9/50], Step [25/38], Accuracy: 94.500, Train Loss: 0.4620\n",
      "Epoch [9/50], Step [30/38], Accuracy: 95.208, Train Loss: 0.3146\n",
      "Epoch [9/50], Step [35/38], Accuracy: 94.107, Train Loss: 0.4687\n",
      "-----------------------------------------------\n",
      "Epoch [10/50], Step [5/38], Accuracy: 91.250, Train Loss: 0.3738\n",
      "Epoch [10/50], Step [10/38], Accuracy: 92.500, Train Loss: 0.3156\n",
      "Epoch [10/50], Step [15/38], Accuracy: 92.500, Train Loss: 0.4158\n",
      "Epoch [10/50], Step [20/38], Accuracy: 92.812, Train Loss: 0.3642\n",
      "Epoch [10/50], Step [25/38], Accuracy: 93.500, Train Loss: 0.3891\n",
      "Epoch [10/50], Step [30/38], Accuracy: 92.708, Train Loss: 0.4240\n",
      "Epoch [10/50], Step [35/38], Accuracy: 92.679, Train Loss: 0.3144\n",
      "================Validating================\n",
      "Epoch: 10 | Test Loss: 0.586 | Accuracy: 72.549\n",
      "Class accuracy: [0.9200000166893005, 0.5384615659713745]\n",
      "-----------------------------------------------\n",
      "Epoch [11/50], Step [5/38], Accuracy: 95.000, Train Loss: 0.3913\n",
      "Epoch [11/50], Step [10/38], Accuracy: 95.000, Train Loss: 0.3676\n",
      "Epoch [11/50], Step [15/38], Accuracy: 95.417, Train Loss: 0.3156\n",
      "Epoch [11/50], Step [20/38], Accuracy: 96.562, Train Loss: 0.3168\n",
      "Epoch [11/50], Step [25/38], Accuracy: 96.000, Train Loss: 0.3169\n",
      "Epoch [11/50], Step [30/38], Accuracy: 95.833, Train Loss: 0.3141\n",
      "Epoch [11/50], Step [35/38], Accuracy: 95.179, Train Loss: 0.3775\n",
      "-----------------------------------------------\n",
      "Epoch [12/50], Step [5/38], Accuracy: 97.500, Train Loss: 0.3137\n",
      "Epoch [12/50], Step [10/38], Accuracy: 95.625, Train Loss: 0.3593\n",
      "Epoch [12/50], Step [15/38], Accuracy: 95.417, Train Loss: 0.3143\n",
      "Epoch [12/50], Step [20/38], Accuracy: 95.000, Train Loss: 0.3162\n",
      "Epoch [12/50], Step [25/38], Accuracy: 95.250, Train Loss: 0.3237\n",
      "Epoch [12/50], Step [30/38], Accuracy: 95.625, Train Loss: 0.3457\n",
      "Epoch [12/50], Step [35/38], Accuracy: 95.179, Train Loss: 0.4058\n",
      "-----------------------------------------------\n",
      "Epoch [13/50], Step [5/38], Accuracy: 98.750, Train Loss: 0.3142\n",
      "Epoch [13/50], Step [10/38], Accuracy: 94.375, Train Loss: 0.3164\n",
      "Epoch [13/50], Step [15/38], Accuracy: 95.417, Train Loss: 0.3145\n",
      "Epoch [13/50], Step [20/38], Accuracy: 95.312, Train Loss: 0.3134\n",
      "Epoch [13/50], Step [25/38], Accuracy: 95.250, Train Loss: 0.4350\n",
      "Epoch [13/50], Step [30/38], Accuracy: 95.208, Train Loss: 0.4414\n",
      "Epoch [13/50], Step [35/38], Accuracy: 95.179, Train Loss: 0.3764\n",
      "-----------------------------------------------\n",
      "Epoch [14/50], Step [5/38], Accuracy: 98.750, Train Loss: 0.3163\n",
      "Epoch [14/50], Step [10/38], Accuracy: 97.500, Train Loss: 0.3140\n",
      "Epoch [14/50], Step [15/38], Accuracy: 96.667, Train Loss: 0.3432\n",
      "Epoch [14/50], Step [20/38], Accuracy: 97.500, Train Loss: 0.3247\n",
      "Epoch [14/50], Step [25/38], Accuracy: 97.500, Train Loss: 0.3765\n",
      "Epoch [14/50], Step [30/38], Accuracy: 97.083, Train Loss: 0.3312\n"
     ]
    },
    {
     "ename": "KeyboardInterrupt",
     "evalue": "",
     "output_type": "error",
     "traceback": [
      "\u001b[1;31m---------------------------------------------------------------------------\u001b[0m",
      "\u001b[1;31mKeyboardInterrupt\u001b[0m                         Traceback (most recent call last)",
      "\u001b[1;32m~\\AppData\\Local\\Temp/ipykernel_21284/788519133.py\u001b[0m in \u001b[0;36m<module>\u001b[1;34m\u001b[0m\n\u001b[0;32m      6\u001b[0m \u001b[0mcriterion\u001b[0m \u001b[1;33m=\u001b[0m \u001b[0mnn\u001b[0m\u001b[1;33m.\u001b[0m\u001b[0mCrossEntropyLoss\u001b[0m\u001b[1;33m(\u001b[0m\u001b[1;33m)\u001b[0m\u001b[1;33m\u001b[0m\u001b[1;33m\u001b[0m\u001b[0m\n\u001b[0;32m      7\u001b[0m \u001b[0mepochs\u001b[0m \u001b[1;33m=\u001b[0m \u001b[1;36m50\u001b[0m\u001b[1;33m\u001b[0m\u001b[1;33m\u001b[0m\u001b[0m\n\u001b[1;32m----> 8\u001b[1;33m \u001b[0mtraining\u001b[0m\u001b[1;33m.\u001b[0m\u001b[0mrun\u001b[0m\u001b[1;33m(\u001b[0m\u001b[0mnet\u001b[0m\u001b[1;33m,\u001b[0m \u001b[0moptimizer\u001b[0m\u001b[1;33m,\u001b[0m \u001b[0mscheduler\u001b[0m\u001b[1;33m,\u001b[0m \u001b[0mcriterion\u001b[0m\u001b[1;33m,\u001b[0m \u001b[0mepochs\u001b[0m\u001b[1;33m,\u001b[0m \u001b[0mtrainloader\u001b[0m\u001b[1;33m,\u001b[0m \u001b[0mtestloader\u001b[0m\u001b[1;33m)\u001b[0m\u001b[1;33m\u001b[0m\u001b[1;33m\u001b[0m\u001b[0m\n\u001b[0m",
      "\u001b[1;32md:\\LearningHood\\College\\csc249\\BetterCOVID-SDNet\\train.py\u001b[0m in \u001b[0;36mrun\u001b[1;34m(net, optimizer, scheduler, criterion, num_epochs, trainloader, testloader)\u001b[0m\n\u001b[0;32m     78\u001b[0m             \u001b[0mloss\u001b[0m\u001b[1;33m.\u001b[0m\u001b[0mbackward\u001b[0m\u001b[1;33m(\u001b[0m\u001b[1;33m)\u001b[0m\u001b[1;33m\u001b[0m\u001b[1;33m\u001b[0m\u001b[0m\n\u001b[0;32m     79\u001b[0m             \u001b[0moptimizer\u001b[0m\u001b[1;33m.\u001b[0m\u001b[0mstep\u001b[0m\u001b[1;33m(\u001b[0m\u001b[1;33m)\u001b[0m\u001b[1;33m\u001b[0m\u001b[1;33m\u001b[0m\u001b[0m\n\u001b[1;32m---> 80\u001b[1;33m             \u001b[0mrunning_loss\u001b[0m \u001b[1;33m+=\u001b[0m \u001b[0mloss\u001b[0m\u001b[1;33m.\u001b[0m\u001b[0mitem\u001b[0m\u001b[1;33m(\u001b[0m\u001b[1;33m)\u001b[0m\u001b[1;33m\u001b[0m\u001b[1;33m\u001b[0m\u001b[0m\n\u001b[0m\u001b[0;32m     81\u001b[0m \u001b[1;33m\u001b[0m\u001b[0m\n\u001b[0;32m     82\u001b[0m             \u001b[0m_\u001b[0m\u001b[1;33m,\u001b[0m \u001b[0mpredicted\u001b[0m \u001b[1;33m=\u001b[0m \u001b[0moutputs\u001b[0m\u001b[1;33m.\u001b[0m\u001b[0mmax\u001b[0m\u001b[1;33m(\u001b[0m\u001b[1;36m1\u001b[0m\u001b[1;33m)\u001b[0m\u001b[1;33m\u001b[0m\u001b[1;33m\u001b[0m\u001b[0m\n",
      "\u001b[1;31mKeyboardInterrupt\u001b[0m: "
     ]
    }
   ],
   "source": [
    "# define params here\n",
    "net = ClassifierNet(resnet50)\n",
    "optimizer = torch.optim.SGD(net.parameters(), lr=0.01, momentum=0.9)\n",
    "scheduler = ExponentialLR(optimizer, gamma=0.9)\n",
    "\n",
    "criterion = nn.CrossEntropyLoss()\n",
    "epochs = 50\n",
    "training.run(net, optimizer, scheduler, criterion, epochs, trainloader, testloader)"
   ]
  }
 ],
 "metadata": {
  "kernelspec": {
   "display_name": "Python 3",
   "language": "python",
   "name": "python3"
  },
  "language_info": {
   "codemirror_mode": {
    "name": "ipython",
    "version": 3
   },
   "file_extension": ".py",
   "mimetype": "text/x-python",
   "name": "python",
   "nbconvert_exporter": "python",
   "pygments_lexer": "ipython3",
   "version": "3.8.8"
  }
 },
 "nbformat": 4,
 "nbformat_minor": 5
}
