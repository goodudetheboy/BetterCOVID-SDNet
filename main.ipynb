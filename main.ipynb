{
 "cells": [
  {
   "cell_type": "code",
   "execution_count": 1,
   "id": "487b3034",
   "metadata": {},
   "outputs": [],
   "source": [
    "import numpy as np\n",
    "\n",
    "from matplotlib import pyplot as plt\n",
    "\n",
    "import torch\n",
    "import torch.nn as nn\n",
    "import torch.nn.functional as F\n",
    "from torch.optim.lr_scheduler import ExponentialLR\n",
    "\n",
    "import torchvision\n",
    "\n",
    "from tqdm.notebook import tqdm\n",
    "\n",
    "import train as training"
   ]
  },
  {
   "cell_type": "code",
   "execution_count": 2,
   "id": "a23417b9",
   "metadata": {},
   "outputs": [
    {
     "name": "stdout",
     "output_type": "stream",
     "text": [
      "{0: 426, 1: 426}\n"
     ]
    }
   ],
   "source": [
    "dire = \"./cleaned-data\" # directory of dataset\n",
    "# loading data loader\n",
    "trainloader, testloader = training.preprocess_data(directory=dire, batch_size=64, test_size=0.3, rand_num=40, worker=2)"
   ]
  },
  {
   "cell_type": "code",
   "execution_count": 3,
   "id": "e7edcc3e",
   "metadata": {},
   "outputs": [],
   "source": [
    "# load pretrained model\n",
    "# vgg16 = torchvision.models.vgg16(pretrained=True)\n",
    "# googlenet = torchvision.models.googlenet(pretrained=True)\n",
    "# efficientnet_b7 = torchvision.models.efficientnet_b7(pretrained=True)\n",
    "resnet50 = torchvision.models.resnet50(pretrained=True)"
   ]
  },
  {
   "cell_type": "code",
   "execution_count": 4,
   "id": "e7eff120",
   "metadata": {},
   "outputs": [],
   "source": [
    "class ClassifierNet(nn.Module):\n",
    "    def __init__(self, pretrained: nn.Module):\n",
    "        super().__init__()\n",
    "        # Pretrained\n",
    "        self.network = pretrained\n",
    "        # Replace last layer\n",
    "        self.network.fc = nn.Sequential(nn.Linear(2048, 512), \n",
    "                                         nn.ReLU(),  \n",
    "                                         nn.Dropout(0.25),\n",
    "                                         nn.Linear(512, 128), \n",
    "                                         nn.ReLU(),  \n",
    "                                         nn.Dropout(0.50), \n",
    "                                         nn.Linear(128, 2),\n",
    "                                         nn.Softmax()\n",
    "                                        )\n",
    "    def forward(self, x):\n",
    "        out = self.network(x)\n",
    "        return out\n"
   ]
  },
  {
   "cell_type": "code",
   "execution_count": 5,
   "id": "1ddfdb90",
   "metadata": {},
   "outputs": [
    {
     "name": "stdout",
     "output_type": "stream",
     "text": [
      "Training on cuda\n"
     ]
    },
    {
     "data": {
      "application/vnd.jupyter.widget-view+json": {
       "model_id": "23e38c179cca42fcbf4a17c6ed1a5bd1",
       "version_major": 2,
       "version_minor": 0
      },
      "text/plain": [
       "  0%|          | 0/50 [00:00<?, ?it/s]"
      ]
     },
     "metadata": {},
     "output_type": "display_data"
    },
    {
     "name": "stderr",
     "output_type": "stream",
     "text": [
      "C:\\Users\\goodu\\AppData\\Local\\Programs\\Python\\Python38\\lib\\site-packages\\torch\\nn\\modules\\container.py:141: UserWarning: Implicit dimension choice for softmax has been deprecated. Change the call to include dim=X as an argument.\n",
      "  input = module(input)\n"
     ]
    },
    {
     "name": "stdout",
     "output_type": "stream",
     "text": [
      "Epoch [1/50], Step [5/10], Accuracy: 48.125, Train Loss: 0.6885\n",
      "Epoch [1/50], Step [10/10], Accuracy: 51.089, Train Loss: 0.6840\n",
      "Epoch 1 Learning Rate: 0.009000000000000001\n",
      "-----------------------------------------------\n",
      "Epoch [2/50], Step [5/10], Accuracy: 60.625, Train Loss: 0.6894\n",
      "Epoch [2/50], Step [10/10], Accuracy: 60.637, Train Loss: 0.7009\n",
      "Epoch 2 Learning Rate: 0.008100000000000001\n",
      "-----------------------------------------------\n",
      "Epoch [3/50], Step [5/10], Accuracy: 69.375, Train Loss: 0.6791\n",
      "Epoch [3/50], Step [10/10], Accuracy: 68.844, Train Loss: 0.6702\n",
      "Epoch 3 Learning Rate: 0.007290000000000001\n",
      "-----------------------------------------------\n",
      "Epoch [4/50], Step [5/10], Accuracy: 76.875, Train Loss: 0.6282\n",
      "Epoch [4/50], Step [10/10], Accuracy: 74.372, Train Loss: 0.7378\n",
      "Epoch 4 Learning Rate: 0.006561000000000002\n",
      "-----------------------------------------------\n",
      "Epoch [5/50], Step [5/10], Accuracy: 76.562, Train Loss: 0.6060\n",
      "Epoch [5/50], Step [10/10], Accuracy: 76.717, Train Loss: 0.5858\n",
      "\n",
      "===================Validating===================\n",
      "Epoch: 5 | Test Loss: 0.606 | Accuracy: 72.157\n",
      "Class accuracy: [0.7839999794960022, 0.6615384817123413]\n",
      "\n",
      "Epoch 5 Learning Rate: 0.005904900000000002\n",
      "-----------------------------------------------\n",
      "Epoch [6/50], Step [5/10], Accuracy: 83.125, Train Loss: 0.5418\n",
      "Epoch [6/50], Step [10/10], Accuracy: 82.245, Train Loss: 0.5338\n",
      "Epoch 6 Learning Rate: 0.005314410000000002\n",
      "-----------------------------------------------\n",
      "Epoch [7/50], Step [5/10], Accuracy: 89.688, Train Loss: 0.4699\n",
      "Epoch [7/50], Step [10/10], Accuracy: 90.285, Train Loss: 0.4368\n",
      "Epoch 7 Learning Rate: 0.004782969000000002\n",
      "-----------------------------------------------\n",
      "Epoch [8/50], Step [5/10], Accuracy: 96.562, Train Loss: 0.4002\n",
      "Epoch [8/50], Step [10/10], Accuracy: 95.477, Train Loss: 0.5182\n",
      "Epoch 8 Learning Rate: 0.004304672100000002\n",
      "-----------------------------------------------\n",
      "Epoch [9/50], Step [5/10], Accuracy: 98.438, Train Loss: 0.3687\n",
      "Epoch [9/50], Step [10/10], Accuracy: 97.655, Train Loss: 0.3665\n",
      "Epoch 9 Learning Rate: 0.003874204890000002\n",
      "-----------------------------------------------\n",
      "Epoch [10/50], Step [5/10], Accuracy: 98.750, Train Loss: 0.3546\n",
      "Epoch [10/50], Step [10/10], Accuracy: 98.827, Train Loss: 0.3302\n",
      "\n",
      "===================Validating===================\n",
      "Epoch: 10 | Test Loss: 0.561 | Accuracy: 73.333\n",
      "Class accuracy: [0.8479999899864197, 0.6230769157409668]\n",
      "\n",
      "Epoch 10 Learning Rate: 0.003486784401000002\n",
      "-----------------------------------------------\n",
      "Epoch [11/50], Step [5/10], Accuracy: 99.688, Train Loss: 0.3417\n",
      "Epoch [11/50], Step [10/10], Accuracy: 99.665, Train Loss: 0.3273\n",
      "Epoch 11 Learning Rate: 0.003138105960900002\n",
      "-----------------------------------------------\n",
      "Epoch [12/50], Step [5/10], Accuracy: 100.000, Train Loss: 0.3280\n",
      "Epoch [12/50], Step [10/10], Accuracy: 99.832, Train Loss: 0.3228\n",
      "Epoch 12 Learning Rate: 0.0028242953648100018\n",
      "-----------------------------------------------\n",
      "Epoch [13/50], Step [5/10], Accuracy: 99.688, Train Loss: 0.3311\n",
      "Epoch [13/50], Step [10/10], Accuracy: 99.832, Train Loss: 0.3202\n",
      "Epoch 13 Learning Rate: 0.0025418658283290017\n",
      "-----------------------------------------------\n"
     ]
    },
    {
     "ename": "KeyboardInterrupt",
     "evalue": "",
     "output_type": "error",
     "traceback": [
      "\u001b[1;31m---------------------------------------------------------------------------\u001b[0m",
      "\u001b[1;31mKeyboardInterrupt\u001b[0m                         Traceback (most recent call last)",
      "\u001b[1;32m~\\AppData\\Local\\Temp/ipykernel_22488/474744940.py\u001b[0m in \u001b[0;36m<module>\u001b[1;34m\u001b[0m\n\u001b[0;32m      7\u001b[0m \u001b[0mcriterion\u001b[0m \u001b[1;33m=\u001b[0m \u001b[0mnn\u001b[0m\u001b[1;33m.\u001b[0m\u001b[0mCrossEntropyLoss\u001b[0m\u001b[1;33m(\u001b[0m\u001b[1;33m)\u001b[0m\u001b[1;33m\u001b[0m\u001b[1;33m\u001b[0m\u001b[0m\n\u001b[0;32m      8\u001b[0m \u001b[0mepochs\u001b[0m \u001b[1;33m=\u001b[0m \u001b[1;36m50\u001b[0m\u001b[1;33m\u001b[0m\u001b[1;33m\u001b[0m\u001b[0m\n\u001b[1;32m----> 9\u001b[1;33m \u001b[0mtraining\u001b[0m\u001b[1;33m.\u001b[0m\u001b[0mrun\u001b[0m\u001b[1;33m(\u001b[0m\u001b[0mmodel_name\u001b[0m\u001b[1;33m,\u001b[0m \u001b[0mnet\u001b[0m\u001b[1;33m,\u001b[0m \u001b[0moptimizer\u001b[0m\u001b[1;33m,\u001b[0m \u001b[0mscheduler\u001b[0m\u001b[1;33m,\u001b[0m \u001b[0mcriterion\u001b[0m\u001b[1;33m,\u001b[0m \u001b[0mepochs\u001b[0m\u001b[1;33m,\u001b[0m \u001b[0mtrainloader\u001b[0m\u001b[1;33m,\u001b[0m \u001b[0mtestloader\u001b[0m\u001b[1;33m)\u001b[0m\u001b[1;33m\u001b[0m\u001b[1;33m\u001b[0m\u001b[0m\n\u001b[0m",
      "\u001b[1;32md:\\LearningHood\\College\\csc249\\BetterCOVID-SDNet\\train.py\u001b[0m in \u001b[0;36mrun\u001b[1;34m(model_name, net, optimizer, scheduler, criterion, num_epochs, trainloader, testloader)\u001b[0m\n\u001b[0;32m     84\u001b[0m             \u001b[0mloss\u001b[0m\u001b[1;33m.\u001b[0m\u001b[0mbackward\u001b[0m\u001b[1;33m(\u001b[0m\u001b[1;33m)\u001b[0m\u001b[1;33m\u001b[0m\u001b[1;33m\u001b[0m\u001b[0m\n\u001b[0;32m     85\u001b[0m             \u001b[0moptimizer\u001b[0m\u001b[1;33m.\u001b[0m\u001b[0mstep\u001b[0m\u001b[1;33m(\u001b[0m\u001b[1;33m)\u001b[0m\u001b[1;33m\u001b[0m\u001b[1;33m\u001b[0m\u001b[0m\n\u001b[1;32m---> 86\u001b[1;33m             \u001b[0mrunning_loss\u001b[0m \u001b[1;33m+=\u001b[0m \u001b[0mloss\u001b[0m\u001b[1;33m.\u001b[0m\u001b[0mitem\u001b[0m\u001b[1;33m(\u001b[0m\u001b[1;33m)\u001b[0m\u001b[1;33m\u001b[0m\u001b[1;33m\u001b[0m\u001b[0m\n\u001b[0m\u001b[0;32m     87\u001b[0m \u001b[1;33m\u001b[0m\u001b[0m\n\u001b[0;32m     88\u001b[0m             \u001b[0m_\u001b[0m\u001b[1;33m,\u001b[0m \u001b[0mpredicted\u001b[0m \u001b[1;33m=\u001b[0m \u001b[0moutputs\u001b[0m\u001b[1;33m.\u001b[0m\u001b[0mmax\u001b[0m\u001b[1;33m(\u001b[0m\u001b[1;36m1\u001b[0m\u001b[1;33m)\u001b[0m\u001b[1;33m\u001b[0m\u001b[1;33m\u001b[0m\u001b[0m\n",
      "\u001b[1;31mKeyboardInterrupt\u001b[0m: "
     ]
    }
   ],
   "source": [
    "# define params here\n",
    "model_name = 'resnet50'\n",
    "net = ClassifierNet(resnet50)\n",
    "optimizer = torch.optim.SGD(net.parameters(), lr=0.01, momentum=0.9, weight_decay=0.001)\n",
    "scheduler = ExponentialLR(optimizer, gamma=0.9)\n",
    "\n",
    "criterion = nn.CrossEntropyLoss()\n",
    "epochs = 50\n",
    "training.run(model_name, net, optimizer, scheduler, criterion, epochs, trainloader, testloader)"
   ]
  }
 ],
 "metadata": {
  "kernelspec": {
   "display_name": "Python 3",
   "language": "python",
   "name": "python3"
  },
  "language_info": {
   "codemirror_mode": {
    "name": "ipython",
    "version": 3
   },
   "file_extension": ".py",
   "mimetype": "text/x-python",
   "name": "python",
   "nbconvert_exporter": "python",
   "pygments_lexer": "ipython3",
   "version": "3.8.8"
  }
 },
 "nbformat": 4,
 "nbformat_minor": 5
}
